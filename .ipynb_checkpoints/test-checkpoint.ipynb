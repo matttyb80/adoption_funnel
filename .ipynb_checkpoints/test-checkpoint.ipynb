{
 "cells": [
  {
   "cell_type": "code",
   "execution_count": 1,
   "metadata": {},
   "outputs": [
    {
     "name": "stdout",
     "output_type": "stream",
     "text": [
      "[{'N': 1, 'T': range(0, 300), 'M': {'MARKETING_STEADY': 500, 'MARKETING_SHOCK_MAG': 1234, 'MARKETING_SHOCK_FREQ': 2, 'EXO_EXPERIENCE': 140, 'SOURCE_POOL': 10000, 'THRESHOLD': 20}}]\n"
     ]
    }
   ],
   "source": [
    "# Import configuration\n",
    "from src.sim import run\n",
    "\n",
    "# For plotting\n",
    "import matplotlib.pyplot as plt\n",
    "import seaborn as sns\n",
    "\n",
    "# For analysis\n",
    "import numpy as np\n",
    "import pandas as pd\n",
    "\n",
    "sns.set_style(\"whitegrid\")"
   ]
  },
  {
   "cell_type": "code",
   "execution_count": 2,
   "metadata": {},
   "outputs": [
    {
     "name": "stdout",
     "output_type": "stream",
     "text": [
      "\n",
      "                            __________   ____ \n",
      "          ________ __ _____/ ____/   |  / __ \\\n",
      "         / ___/ __` / __  / /   / /| | / / / /\n",
      "        / /__/ /_/ / /_/ / /___/ ___ |/ /_/ / \n",
      "        \\___/\\__,_/\\__,_/\\____/_/  |_/_____/  \n",
      "        by BlockScience\n",
      "        \n",
      "Execution Mode: multi_proc: [<cadCAD.configuration.Configuration object at 0x000001DC2429F080>]\n",
      "Configurations: [<cadCAD.configuration.Configuration object at 0x000001DC2429F080>]\n"
     ]
    }
   ],
   "source": [
    "experiments = run.run()"
   ]
  },
  {
   "cell_type": "code",
   "execution_count": 3,
   "metadata": {},
   "outputs": [
    {
     "name": "stdout",
     "output_type": "stream",
     "text": [
      "   timestamp  signal                                           adoption state  \\\n",
      "0 2020-01-01       0  <class 'src.sim.model.utils.Adoption'>: {'repu...    []   \n",
      "2 2020-01-01     500  <class 'src.sim.model.utils.Adoption'>: {'repu...    []   \n",
      "4 2020-01-01     500  <class 'src.sim.model.utils.Adoption'>: {'repu...    []   \n",
      "6 2020-01-01     500  <class 'src.sim.model.utils.Adoption'>: {'repu...    []   \n",
      "8 2020-01-01     500  <class 'src.sim.model.utils.Adoption'>: {'repu...    []   \n",
      "\n",
      "                                                pool  run  substep  timestep  \n",
      "0  <class 'src.sim.model.utils.Adoption_Pool'>: {...    1        0         0  \n",
      "2  <class 'src.sim.model.utils.Adoption_Pool'>: {...    1        2         1  \n",
      "4  <class 'src.sim.model.utils.Adoption_Pool'>: {...    1        2         2  \n",
      "6  <class 'src.sim.model.utils.Adoption_Pool'>: {...    1        2         3  \n",
      "8  <class 'src.sim.model.utils.Adoption_Pool'>: {...    1        2         4  \n"
     ]
    }
   ],
   "source": [
    "print(experiments.dataset[0].head())"
   ]
  },
  {
   "cell_type": "code",
   "execution_count": 4,
   "metadata": {},
   "outputs": [
    {
     "data": {
      "text/plain": [
       "[<matplotlib.lines.Line2D at 0x1dc273e7550>]"
      ]
     },
     "execution_count": 4,
     "metadata": {},
     "output_type": "execute_result"
    },
    {
     "data": {
      "image/png": "[encoded data removed]",
      "text/plain": [
       "<Figure size 432x288 with 1 Axes>"
      ]
     },
     "metadata": {},
     "output_type": "display_data"
    }
   ],
   "source": [
    "plt.plot(experiments.dataset[0].signal)"
   ]
  },
  {
   "cell_type": "code",
   "execution_count": 5,
   "metadata": {},
   "outputs": [
    {
     "data": {
      "text/plain": [
       "50"
      ]
     },
     "execution_count": 5,
     "metadata": {},
     "output_type": "execute_result"
    }
   ],
   "source": [
    "experiments.dataset[0].adoption[100].reputation"
   ]
  },
  {
   "cell_type": "code",
   "execution_count": 6,
   "metadata": {},
   "outputs": [],
   "source": [
    "first_experiment = experiments.dataset[0]"
   ]
  },
  {
   "cell_type": "code",
   "execution_count": 7,
   "metadata": {},
   "outputs": [
    {
     "data": {
      "text/plain": [
       "301"
      ]
     },
     "execution_count": 7,
     "metadata": {},
     "output_type": "execute_result"
    }
   ],
   "source": [
    "len(first_experiment)"
   ]
  },
  {
   "cell_type": "code",
   "execution_count": 8,
   "metadata": {},
   "outputs": [
    {
     "name": "stdout",
     "output_type": "stream",
     "text": [
      "<class 'src.sim.model.utils.Adoption'>: {'reputation': None, 'state': 'unaware'}\n"
     ]
    }
   ],
   "source": [
    "print(first_experiment.adoption[0])"
   ]
  },
  {
   "cell_type": "code",
   "execution_count": 9,
   "metadata": {},
   "outputs": [
    {
     "name": "stdout",
     "output_type": "stream",
     "text": [
      "<class 'src.sim.model.utils.Adoption'>: {'reputation': 1, 'state': 'adopted', 'threshold': 20}\n"
     ]
    }
   ],
   "source": [
    "print(first_experiment.adoption[2])"
   ]
  },
  {
   "cell_type": "code",
   "execution_count": 10,
   "metadata": {},
   "outputs": [
    {
     "name": "stdout",
     "output_type": "stream",
     "text": [
      "<class 'src.sim.model.utils.Adoption'>: {'reputation': 2, 'state': 'loyal', 'threshold': 20}\n"
     ]
    }
   ],
   "source": [
    "print(first_experiment.adoption[4])"
   ]
  },
  {
   "cell_type": "code",
   "execution_count": 11,
   "metadata": {},
   "outputs": [
    {
     "name": "stdout",
     "output_type": "stream",
     "text": [
      "<class 'src.sim.model.utils.Adoption_Pool'>: {'state': {'unaware': {'pool': 10000, 'reputation': 2}, 'aware': {'pool': 0, 'reputation': None}, 'adopted': {'pool': 0, 'reputation': None}, 'loyal': {'pool': 0, 'reputation': None}, 'churned': {'pool': 0, 'reputation': None}}, 'threshold': 1}\n"
     ]
    }
   ],
   "source": [
    "print(first_experiment.pool[4])"
   ]
  },
  {
   "cell_type": "code",
   "execution_count": 12,
   "metadata": {
    "scrolled": false
   },
   "outputs": [],
   "source": [
    "# for evens in range(len(experiment)):\n",
    "#     index = evens * 2\n",
    "#     print(experiment.adoption[index].reputation)\n",
    "#     print(experiment.adoption[index].state)"
   ]
  },
  {
   "cell_type": "code",
   "execution_count": 13,
   "metadata": {},
   "outputs": [
    {
     "data": {
      "image/png": "[encoded data removed]",
      "text/plain": [
       "<Figure size 1080x504 with 1 Axes>"
      ]
     },
     "metadata": {},
     "output_type": "display_data"
    }
   ],
   "source": [
    "experiments = experiments.sort_values(by =['SOURCE_POOL']).reset_index(drop=True)\n",
    "\n",
    "cols = 1\n",
    "rows = 1\n",
    "cc_idx = 0\n",
    "\n",
    "while cc_idx<len(experiments):\n",
    "    cc = experiments.iloc[cc_idx]['SOURCE_POOL']\n",
    "    cc_label = experiments.iloc[cc_idx]['SOURCE_POOL']\n",
    "#     secondary_label = experiments.iloc[cc_idx]['route_allocation']\n",
    "    sub_experiments = experiments[experiments['SOURCE_POOL']==cc]\n",
    "    cc_idx += len(sub_experiments)\n",
    "    fig, axs = plt.subplots(ncols=cols, nrows=rows, figsize=(15*cols,7*rows))\n",
    "    sub_experiments.reset_index(drop=False)\n",
    "    for i, experiment in sub_experiments.iterrows():\n",
    "        df = experiment['dataset'].copy()\n",
    "        df['rep_count'] = df.adoption.apply(lambda x: np.array(x.reputation))\n",
    "        df['adopt_state'] = df.adoption.apply(lambda x: np.array(x.state))\n",
    "\n",
    "\n",
    "#         df['j_wallet'] = np.array(df.j_wallet,dtype = float)\n",
    "        \n",
    "#         df_j = df.groupby('timestep').agg({'j_wallet': ['min', 'mean', 'max']}).reset_index()\n",
    "\n",
    "        plot_label = experiment['SOURCE_POOL']\n",
    "        ax = axs\n",
    "        title = 'Tokens by Roles' + '\\n' + 'Scenario: ' + str(cc_label)  + ' SOURCE_POOL'\n",
    "        ax.set_title(title)\n",
    "        ax.set_ylabel('Tokens')\n",
    "        colors = ['b','orange', 'g', 'r']\n",
    "\n",
    "#         ax.plot(df_j.timestep, df_j['j_wallet']['mean'],color = colors[0], label='j_wallet')\n",
    "        ax.plot(df.timestep, df['rep_count'],color = colors[0], label='Reputation')\n",
    "\n",
    "        ax.legend()\n",
    "#         ax.fill_between(df_j.timestep, df_j[('j_wallet','min')], df_j[('j_wallet','max')], alpha=0.3 ,color = colors[0],label='j_wallet')        \n",
    "\n",
    "#         ax.fill_between(df_j.timestep, df_j[('j_wallet','min')], df_j[('j_wallet','max')], alpha=0.3 ,color = colors[0],label='j_wallet')        \n",
    "\n",
    "        ax.set_xlabel('Blocks')\n",
    "        ax.grid(color='0.9', linestyle='-', linewidth=1)\n",
    "\n",
    "        plt.tight_layout()\n",
    "        \n",
    "fig.tight_layout(rect=[0, 0, 1, .97])\n",
    "fig.patch.set_alpha(1)\n",
    "display(fig)\n",
    "plt.close()"
   ]
  },
  {
   "cell_type": "code",
   "execution_count": 14,
   "metadata": {
    "scrolled": false
   },
   "outputs": [
    {
     "data": {
      "image/png": "[encoded data removed]",
      "text/plain": [
       "<Figure size 1080x504 with 1 Axes>"
      ]
     },
     "metadata": {},
     "output_type": "display_data"
    }
   ],
   "source": [
    "experiments = experiments.sort_values(by =['SOURCE_POOL']).reset_index(drop=True)\n",
    "\n",
    "cols = 1\n",
    "rows = 1\n",
    "cc_idx = 0\n",
    "\n",
    "while cc_idx<len(experiments):\n",
    "    cc = experiments.iloc[cc_idx]['SOURCE_POOL']\n",
    "    cc_label = experiments.iloc[cc_idx]['SOURCE_POOL']\n",
    "#     secondary_label = experiments.iloc[cc_idx]['route_allocation']\n",
    "    sub_experiments = experiments[experiments['SOURCE_POOL']==cc]\n",
    "    cc_idx += len(sub_experiments)\n",
    "    fig, axs = plt.subplots(ncols=cols, nrows=rows, figsize=(15*cols,7*rows))\n",
    "    sub_experiments.reset_index(drop=False)\n",
    "    for i, experiment in sub_experiments.iterrows():\n",
    "        df = experiment['dataset'].copy()\n",
    "        df['rep_count'] = df.adoption.apply(lambda x: np.array(x.reputation))\n",
    "        df['adopt_state'] = df.adoption.apply(lambda x: np.array(x.state))\n",
    "\n",
    "\n",
    "#         df['j_wallet'] = np.array(df.j_wallet,dtype = float)\n",
    "        \n",
    "#         df_j = df.groupby('timestep').agg({'j_wallet': ['min', 'mean', 'max']}).reset_index()\n",
    "\n",
    "        plot_label = experiment['SOURCE_POOL']\n",
    "        ax = axs\n",
    "        title = 'Tokens by Roles' + '\\n' + 'Scenario: ' + str(cc_label)  + ' SOURCE_POOL'\n",
    "        ax.set_title(title)\n",
    "        ax.set_ylabel('Tokens')\n",
    "        colors = ['b','orange', 'g', 'r']\n",
    "\n",
    "#         ax.plot(df_j.timestep, df_j['j_wallet']['mean'],color = colors[0], label='j_wallet')\n",
    "        ax.plot(df.timestep, df['adopt_state'],color = colors[0], label='Adoption')\n",
    "\n",
    "        ax.legend()\n",
    "#         ax.fill_between(df_j.timestep, df_j[('j_wallet','min')], df_j[('j_wallet','max')], alpha=0.3 ,color = colors[0],label='j_wallet')        \n",
    "\n",
    "#         ax.fill_between(df_j.timestep, df_j[('j_wallet','min')], df_j[('j_wallet','max')], alpha=0.3 ,color = colors[0],label='j_wallet')        \n",
    "\n",
    "        ax.set_xlabel('Blocks')\n",
    "        ax.grid(color='0.9', linestyle='-', linewidth=1)\n",
    "\n",
    "        plt.tight_layout()\n",
    "        \n",
    "fig.tight_layout(rect=[0, 0, 1, .97])\n",
    "fig.patch.set_alpha(1)\n",
    "display(fig)\n",
    "plt.close()"
   ]
  },
  {
   "cell_type": "markdown",
   "metadata": {},
   "source": [
    "### State Transition Table\n",
    "\n",
    "| Current State    |  Input | Next State     |  Threshold | Output Reputation  |Output Activity  |\n",
    "|:-------------:|:-------------:|:-------------:|:-----:|:-----:|:-----:|\n",
    "|Unaware |Marketing Signal     |Unaware    | Not Exceeded | Empty $\\emptyset$      |None      |\n",
    "|Unaware |Marketing Signal     |Aware    | Exceeded | Exists $\\exists$     | None      |\n",
    "|Aware    | Reputation    |Aware    | Not Exceeded | Exists $\\exists$       |None      |\n",
    "|Aware    | Reputation    |Adopted    | Exceeded | Positive (+)     |None      |\n",
    "|Adopted    | Experience    |Adopted    | Not Exceeded | Positive (+)      |Some      |\n",
    "|Adopted    | Experience    |Loyal    | Exceeded | Positive  (+)      |Increased      |\n",
    "|Adopted    | Experience    |Churned    | Lower Limit Exceeded | Negative  (-)    | Decreased      |\n",
    "|Loyal    | Experience    |Loyal    | Exceeded | Positive (++)     | Increased      |\n",
    "|Loyal    | Experience    |Adopted    | Lower Limit Exceeded | Positive (+)      | Decreased      |\n",
    "|Churned    | Reputation    |Churned    | Lower Limit Exceeded | Negative (-)      | None      |\n",
    "|Churned    | Reputation    |Adopted    |  Exceeded | Positive (+)      | None     |\n",
    "\n"
   ]
  },
  {
   "cell_type": "markdown",
   "metadata": {},
   "source": [
    "#### Drip Function\n",
    "$$ \\Delta{V} = V_C \\times M - \\delta \\times V_C $$\n",
    "\n",
    "#### Current State\n",
    "$$ V_C = V_C - \\Delta{V} $$\n",
    "\n",
    "#### Next State\n",
    "$$ V_N = V_N + \\Delta{V} $$"
   ]
  },
  {
   "cell_type": "code",
   "execution_count": 299,
   "metadata": {},
   "outputs": [],
   "source": [
    "class Adoption_Pool(): #args\n",
    "    \"\"\"\n",
    "    Adoption class for defining state of network adoption\n",
    "    This is class is on the subpopulation level, where each state maitains a count of members\n",
    "    and a mean of reputation in the addoption funnel\n",
    "    and threshold transition value\n",
    "    \"\"\"  \n",
    "    def __init__(self, pool):\n",
    "        \"\"\"\n",
    "        Adoption class initialized without a preset reputation\n",
    "        Unaware state\n",
    "        \"\"\"        \n",
    "\n",
    "        self.state = {'unaware': {'pool': pool, 'reputation': None,},\n",
    "                      'aware': {'pool': 0, 'reputation': None},\n",
    "                      'adopted': {'pool': 0, 'reputation': None},\n",
    "                      'loyal': {'pool': 0, 'reputation': None},\n",
    "                      'churned': {'pool': 0, 'reputation': None},\n",
    "                    }\n",
    "        # self.state.pool = pool\n",
    "        # self.pool = pool\n",
    "        # self.reputation = None\n",
    "        self.threshold = 1\n",
    "\n",
    " # when signal reaches above filtered threshold       \n",
    "    def apply_signal(self, signal):\n",
    "        \"\"\"\n",
    "        Apply signal to reputation metric\n",
    "        \"\"\"  \n",
    "        print(self.state['unaware'])\n",
    "        if self.state['unaware']['reputation'] is None:\n",
    "            self.state['unaware']['reputation'] = 0\n",
    "\n",
    "        if signal == 0: \n",
    "            self.state['unaware']['reputation']  =  0\n",
    "        elif signal > 0: \n",
    "            self.state['unaware']['reputation'] +=  1\n",
    "\n",
    "        elif signal < 0: \n",
    "            self.state['unaware']['reputation'] -=  1\n",
    "        \n",
    "            \n",
    "        \n",
    "    def apply_experience(self, experience):\n",
    "        \"\"\"\n",
    "        Apply experience to reputation metric\n",
    "        \"\"\"  \n",
    "        if experience > 0: \n",
    "            self.reputation +=  1\n",
    "        \n",
    "        if experience < 0: \n",
    "            self.reputation -=  1\n",
    "            \n",
    "    \n",
    "    def calculate_drip(self):\n",
    "        \"\"\"\n",
    "        Calculate drip for each state\n",
    "        \"\"\"  \n",
    "        for key, value in self.state.items():\n",
    "            if value['reputation'] is not None:\n",
    "                # NOT THRESHOLD NUT THRESHOLD*POOL\n",
    "                value['drip'] = value['reputation'] * value['pool'] - self.threshold * value['pool'] # TOO BIG\n",
    "                \n",
    "    def update_pools(self):\n",
    "        \"\"\"\n",
    "        Update pool from drip for each state\n",
    "        \"\"\"  \n",
    "        for key, value in self.state.items():\n",
    "            if 'drip' in value.keys():\n",
    "                value['pool'] -= value['drip']\n",
    "                \n",
    "                \n",
    "                if key is 'unaware':\n",
    "                    self.state['aware']['pool'] += value['drip']\n",
    "                \n",
    "                elif key is 'aware':\n",
    "                    self.state['adopted']['pool'] += value['drip']\n",
    "                    \n",
    "                elif key is 'adopted':\n",
    "                    self.state['loyal']['pool'] += value['drip']\n",
    "                \n",
    "                elif key is 'adopted': # AND NEGATIVE FLAG FOR NEGATIVE\n",
    "                    self.state['churned']['pool'] += value['drip']\n",
    "                    \n",
    "                elif key is 'loyal':\n",
    "                    self.state['adopted']['pool'] += value['drip']\n",
    "                    \n",
    "                elif key is 'churned':\n",
    "                    self.state['adopted']['pool'] += value['drip']\n",
    "                \n",
    "                value['drip'] = 0\n",
    "                \n",
    "                \n",
    "#         for key, value in self.state.items():\n",
    "#             print(value)\n",
    "#             if 'drip' in value.keys():\n",
    "#                 value['drip'] = 0\n",
    "    \n",
    "    def determine_state(self, reputation=None, threshold= None):\n",
    "        \"\"\"\n",
    "        Uses reputation and threshold to determine state\n",
    "        \"\"\"  \n",
    "        if threshold is None:\n",
    "            threshold = self.threshold\n",
    "            \n",
    "        if reputation is None:\n",
    "            reputation = self.reputation\n",
    "        \n",
    "        if reputation > threshold:\n",
    "            if self.state == 'aware':\n",
    "                self.state = 'adopted'\n",
    "                \n",
    "            elif self.state == 'adopted':\n",
    "                self.state = 'loyal'\n",
    "                       \n",
    "                \n",
    "        if reputation < threshold:\n",
    "            if self.state == 'adopted':\n",
    "                self.state = 'churned'\n",
    "        \n",
    "            elif self.state == 'loyal':\n",
    "                self.state = 'adopted'\n",
    "                \n",
    "    def set_threshold(self, default_threshold=0.5, ext_threshold=None):\n",
    "        \"\"\"\n",
    "        Set threshold to current state\n",
    "        \"\"\"  \n",
    "\n",
    "        if self.state == 'unaware':\n",
    "            if ext_threshold is not None:\n",
    "                self.threshold = ext_threshold\n",
    "            else:\n",
    "                self.threshold = default_threshold\n",
    "                \n",
    "        elif self.state == 'aware':\n",
    "            if ext_threshold is not None:\n",
    "                self.threshold = ext_threshold\n",
    "            else:\n",
    "                self.threshold = default_threshold\n",
    "                       \n",
    "        elif self.state == 'adopted':\n",
    "            if ext_threshold is not None:\n",
    "                self.threshold = ext_threshold\n",
    "            else:\n",
    "                self.threshold = default_threshold\n",
    "                \n",
    "        elif self.state == 'loyal':\n",
    "            if ext_threshold is not None:\n",
    "                self.threshold = ext_threshold\n",
    "            else:\n",
    "                self.threshold = default_threshold       \n",
    "                \n",
    "        elif self.state == 'churned':\n",
    "            if ext_threshold is not None:\n",
    "                self.threshold = ext_threshold\n",
    "            else:\n",
    "                self.threshold = default_threshold\n",
    "        \n",
    "    def __str__(self):\n",
    "        \"\"\"\n",
    "        Print all attributes of an event\n",
    "        \"\"\"\n",
    "        return str(self.__class__) + \": \" + str(self.__dict__)"
   ]
  },
  {
   "cell_type": "code",
   "execution_count": 300,
   "metadata": {},
   "outputs": [],
   "source": [
    "pool = Adoption_Pool(100)"
   ]
  },
  {
   "cell_type": "code",
   "execution_count": 313,
   "metadata": {},
   "outputs": [
    {
     "name": "stdout",
     "output_type": "stream",
     "text": [
      "<class '__main__.Adoption_Pool'>: {'state': {'unaware': {'pool': -100, 'reputation': 3, 'drip': 0}, 'aware': {'pool': 200, 'reputation': None}, 'adopted': {'pool': 0, 'reputation': None}, 'loyal': {'pool': 0, 'reputation': None}, 'churned': {'pool': 0, 'reputation': None}}, 'threshold': 1}\n"
     ]
    }
   ],
   "source": [
    "print(pool)"
   ]
  },
  {
   "cell_type": "code",
   "execution_count": 324,
   "metadata": {},
   "outputs": [
    {
     "data": {
      "text/plain": [
       "{'unaware': {'pool': 200, 'reputation': 4, 'drip': 0},\n",
       " 'aware': {'pool': -100, 'reputation': None},\n",
       " 'adopted': {'pool': 0, 'reputation': None},\n",
       " 'loyal': {'pool': 0, 'reputation': None},\n",
       " 'churned': {'pool': 0, 'reputation': None}}"
      ]
     },
     "execution_count": 324,
     "metadata": {},
     "output_type": "execute_result"
    }
   ],
   "source": [
    "pool.state"
   ]
  },
  {
   "cell_type": "code",
   "execution_count": 325,
   "metadata": {},
   "outputs": [
    {
     "data": {
      "text/plain": [
       "{'pool': 200, 'reputation': 4, 'drip': 0}"
      ]
     },
     "execution_count": 325,
     "metadata": {},
     "output_type": "execute_result"
    }
   ],
   "source": [
    "pool.state['unaware']"
   ]
  },
  {
   "cell_type": "code",
   "execution_count": 326,
   "metadata": {},
   "outputs": [
    {
     "data": {
      "text/plain": [
       "200"
      ]
     },
     "execution_count": 326,
     "metadata": {},
     "output_type": "execute_result"
    }
   ],
   "source": [
    "pool.state['unaware']['pool']"
   ]
  },
  {
   "cell_type": "code",
   "execution_count": 327,
   "metadata": {},
   "outputs": [
    {
     "name": "stdout",
     "output_type": "stream",
     "text": [
      "{'pool': 200, 'reputation': 4, 'drip': 0}\n"
     ]
    }
   ],
   "source": [
    "pool.apply_signal(5)"
   ]
  },
  {
   "cell_type": "code",
   "execution_count": 328,
   "metadata": {},
   "outputs": [
    {
     "name": "stdout",
     "output_type": "stream",
     "text": [
      "<class '__main__.Adoption_Pool'>: {'state': {'unaware': {'pool': 200, 'reputation': 5, 'drip': 0}, 'aware': {'pool': -100, 'reputation': None}, 'adopted': {'pool': 0, 'reputation': None}, 'loyal': {'pool': 0, 'reputation': None}, 'churned': {'pool': 0, 'reputation': None}}, 'threshold': 1}\n"
     ]
    }
   ],
   "source": [
    "print(pool)"
   ]
  },
  {
   "cell_type": "code",
   "execution_count": 329,
   "metadata": {},
   "outputs": [],
   "source": [
    "pool.calculate_drip()"
   ]
  },
  {
   "cell_type": "code",
   "execution_count": 330,
   "metadata": {},
   "outputs": [
    {
     "name": "stdout",
     "output_type": "stream",
     "text": [
      "<class '__main__.Adoption_Pool'>: {'state': {'unaware': {'pool': 200, 'reputation': 5, 'drip': 800}, 'aware': {'pool': -100, 'reputation': None}, 'adopted': {'pool': 0, 'reputation': None}, 'loyal': {'pool': 0, 'reputation': None}, 'churned': {'pool': 0, 'reputation': None}}, 'threshold': 1}\n"
     ]
    }
   ],
   "source": [
    "print(pool)"
   ]
  },
  {
   "cell_type": "code",
   "execution_count": 331,
   "metadata": {},
   "outputs": [],
   "source": [
    "pool.update_pools()"
   ]
  },
  {
   "cell_type": "code",
   "execution_count": 332,
   "metadata": {},
   "outputs": [
    {
     "name": "stdout",
     "output_type": "stream",
     "text": [
      "<class '__main__.Adoption_Pool'>: {'state': {'unaware': {'pool': -600, 'reputation': 5, 'drip': 0}, 'aware': {'pool': 700, 'reputation': None}, 'adopted': {'pool': 0, 'reputation': None}, 'loyal': {'pool': 0, 'reputation': None}, 'churned': {'pool': 0, 'reputation': None}}, 'threshold': 1}\n"
     ]
    }
   ],
   "source": [
    "print(pool)"
   ]
  },
  {
   "cell_type": "code",
   "execution_count": null,
   "metadata": {},
   "outputs": [],
   "source": []
  },
  {
   "cell_type": "code",
   "execution_count": null,
   "metadata": {},
   "outputs": [],
   "source": []
  },
  {
   "cell_type": "code",
   "execution_count": null,
   "metadata": {},
   "outputs": [],
   "source": []
  }
 ],
 "metadata": {
  "kernelspec": {
   "display_name": "Python 3",
   "language": "python",
   "name": "python3"
  },
  "language_info": {
   "codemirror_mode": {
    "name": "ipython",
    "version": 3
   },
   "file_extension": ".py",
   "mimetype": "text/x-python",
   "name": "python",
   "nbconvert_exporter": "python",
   "pygments_lexer": "ipython3",
   "version": "3.6.5"
  }
 },
 "nbformat": 4,
 "nbformat_minor": 4
}
