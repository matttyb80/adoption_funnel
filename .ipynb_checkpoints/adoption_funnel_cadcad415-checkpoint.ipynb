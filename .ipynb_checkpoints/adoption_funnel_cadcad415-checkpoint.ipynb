{
 "cells": [
  {
   "cell_type": "markdown",
   "metadata": {},
   "source": [
    "# Notebook of Adoption Funnel through Marketing Signal\n",
    "### Prepared by Matt Barlin, Lead Systems Engineer, BlockScience\n",
    "\n",
    "The purpose of this notebook explores the adoption funnel using a Finite State Machine model. Targeted members are treated as sub-population pools as they move through states of adoption, using a developed Aoption_Pool class object. "
   ]
  },
  {
   "cell_type": "code",
   "execution_count": 1,
   "metadata": {},
   "outputs": [],
   "source": [
    "from typing import Dict, List"
   ]
  },
  {
   "cell_type": "code",
   "execution_count": 2,
   "metadata": {},
   "outputs": [],
   "source": [
    "g: Dict[str, List[int]] = {\n",
    "    'alpha': [1],\n",
    "    'beta': [2, 5],\n",
    "    'gamma': [3, 4],\n",
    "    'omega': [9]\n",
    "}"
   ]
  },
  {
   "cell_type": "code",
   "execution_count": 3,
   "metadata": {},
   "outputs": [],
   "source": [
    "g"
   ]
  },
  {
   "cell_type": "code",
   "execution_count": 4,
   "metadata": {},
   "outputs": [],
   "source": [
    "g: Dict[str, List[int]] = g"
   ]
  },
  {
   "cell_type": "code",
   "execution_count": 5,
   "metadata": {},
   "outputs": [],
   "source": [
    "# For displaying image files\n",
    "from IPython.display import Image"
   ]
  },
  {
   "cell_type": "markdown",
   "metadata": {},
   "source": [
    "## Finite State Machine Diagram"
   ]
  },
  {
   "cell_type": "code",
   "execution_count": 6,
   "metadata": {},
   "outputs": [],
   "source": [
    "Image(filename='images/state_machine.png')"
   ]
  },
  {
   "cell_type": "markdown",
   "metadata": {},
   "source": [
    "### State Transition Table\n",
    "\n",
    "| Current State    |  Input | Next State     |  Threshold | Output Reputation  |Output Activity  |\n",
    "|:-------------:|:-------------:|:-------------:|:-----:|:-----:|:-----:|\n",
    "|Unaware |Marketing Signal     |Unaware    | Not Exceeded | Empty $\\emptyset$      |None      |\n",
    "|Unaware |Marketing Signal     |Aware    | Exceeded | Exists $\\exists$     | None      |\n",
    "|Aware    | Reputation    |Aware    | Not Exceeded | Exists $\\exists$       |None      |\n",
    "|Aware    | Reputation    |Adopted    | Exceeded | Positive (+)     |None      |\n",
    "|Adopted    | Experience    |Adopted    | Not Exceeded | Positive (+)      |Some      |\n",
    "|Adopted    | Experience    |Loyal    | Exceeded | Positive  (+)      |Increased      |\n",
    "|Adopted    | Experience    |Churned    | Lower Limit Exceeded | Negative  (-)    | Decreased      |\n",
    "|Loyal    | Experience    |Loyal    | Exceeded | Positive (++)     | Increased      |\n",
    "|Loyal    | Experience    |Adopted    | Lower Limit Exceeded | Positive (+)      | Decreased      |\n",
    "|Churned    | Reputation    |Churned    | Lower Limit Exceeded | Negative (-)      | None      |\n",
    "|Churned    | Reputation    |Adopted    |  Exceeded | Positive (+)      | None     |\n"
   ]
  },
  {
   "cell_type": "markdown",
   "metadata": {},
   "source": [
    "### Differential Update Equations\n",
    "#### Drip Function\n",
    "\n",
    "$$ \\Delta{V} = \\delta \\cdot (V_C \\times \\mu_C -  V_C  \\times \\mu_{\\tau}) $$\n",
    "\n",
    "#### Current State\n",
    "\n",
    "$$ V_C = V_C - \\Delta{V} $$\n",
    "\n",
    "$$ \\mu_C =\\frac{ V_C \\cdot \\mu_C - \\delta \\cdot \\mu_C  \\cdot \\Delta{V}}{V_C - \\Delta{V}}$$\n",
    "\n",
    "#### Next State\n",
    "\n",
    "$$ V_N = V_N + \\Delta{V} $$\n",
    "\n",
    "$$ \\mu_N = \\frac{V_N \\cdot \\mu_N + \\delta \\cdot \\mu_C \\cdot \\Delta{V}}{V_N + \\Delta{V}}$$\n",
    "\n",
    "Where:\n",
    "\n",
    "1. $ \\Delta{V}$ is the volume or count of pool members transitioning to the next state of adoption\n",
    "1. $V_C$ is the volume or count of pool members for each current state of adoption, C\n",
    "2. $\\delta$ is the leak coefficient, available as a parameter choice\n",
    "3. $\\mu_C$ is the mean reputation for each current state of adoption, C\n",
    "3. $\\mu_{\\tau}$ is the mean threshold reputation for each state of adoption\n",
    "1. $V_N$ is the volume or count of pool members in the next state of adoption, N"
   ]
  },
  {
   "cell_type": "markdown",
   "metadata": {},
   "source": [
    "### Import Model Configuration Object\n",
    "\n",
    "#### Import Python Libraries for Analysis and Plotting\n",
    "\n",
    "#### Output is the configuration dictionary containing\n",
    "\n",
    "'N' = Number of Monte Carlo Runs, running multiple simulations of the same system.\n",
    "\n",
    "'T' = Computer simulations run in discrete time. The length of the simulation in timesteps.\n",
    "\n",
    "'M' = Dictionary of system parameter values being tested. Any parameter listed in the M dictionary may be swept over a range of values."
   ]
  },
  {
   "cell_type": "code",
   "execution_count": 8,
   "metadata": {
    "scrolled": false
   },
   "outputs": [
    {
     "ename": "ImportError",
     "evalue": "cannot import name 'run_new_cadcad'",
     "output_type": "error",
     "traceback": [
      "\u001b[1;31m---------------------------------------------------------------------------\u001b[0m",
      "\u001b[1;31mImportError\u001b[0m                               Traceback (most recent call last)",
      "\u001b[1;32m<ipython-input-8-3e24fda2adc6>\u001b[0m in \u001b[0;36m<module>\u001b[1;34m\u001b[0m\n\u001b[0;32m      1\u001b[0m \u001b[1;31m# Import configuration\u001b[0m\u001b[1;33m\u001b[0m\u001b[1;33m\u001b[0m\u001b[0m\n\u001b[1;32m----> 2\u001b[1;33m \u001b[1;32mfrom\u001b[0m \u001b[0msrc\u001b[0m\u001b[1;33m.\u001b[0m\u001b[0msim\u001b[0m \u001b[1;32mimport\u001b[0m \u001b[0mrun_new_cadcad\u001b[0m\u001b[1;33m\u001b[0m\u001b[0m\n\u001b[0m\u001b[0;32m      3\u001b[0m \u001b[1;33m\u001b[0m\u001b[0m\n\u001b[0;32m      4\u001b[0m \u001b[1;31m# For plotting\u001b[0m\u001b[1;33m\u001b[0m\u001b[1;33m\u001b[0m\u001b[0m\n\u001b[0;32m      5\u001b[0m \u001b[1;32mimport\u001b[0m \u001b[0mmatplotlib\u001b[0m\u001b[1;33m.\u001b[0m\u001b[0mpyplot\u001b[0m \u001b[1;32mas\u001b[0m \u001b[0mplt\u001b[0m\u001b[1;33m\u001b[0m\u001b[0m\n",
      "\u001b[1;31mImportError\u001b[0m: cannot import name 'run_new_cadcad'"
     ]
    }
   ],
   "source": [
    "# Import configuration\n",
    "from src.sim import run\n",
    "\n",
    "# For plotting\n",
    "import matplotlib.pyplot as plt\n",
    "import seaborn as sns\n",
    "\n",
    "# For analysis\n",
    "import numpy as np\n",
    "import pandas as pd\n",
    "\n",
    "sns.set_style(\"whitegrid\")"
   ]
  },
  {
   "cell_type": "markdown",
   "metadata": {},
   "source": [
    "### cadCAD Specification\n",
    "A Partial State Update Block (PSUB) is a set of State Update Functions and Policy Functions such that State Update Functions in the set are independent from each other and Policies in the set are independent from each other and from the State Update Functions in the set. In other words, if a state variable is updated in a PSUB, its new value cannot impact the State Update Functions and Policy Functions in that PSUB - only those in the next PSUB. The partial state update block for the Adoption Funnel is implemented according to the specification below."
   ]
  },
  {
   "cell_type": "code",
   "execution_count": null,
   "metadata": {},
   "outputs": [],
   "source": [
    "Image(filename='images/adoption_cadcad_spec.png')"
   ]
  },
  {
   "cell_type": "markdown",
   "metadata": {},
   "source": [
    "### Run cadCAD Simulation\n",
    "A Simulation execution produces a System Event Dataset and the Tensor Field applied to initial states used to create it.\n",
    "Execute Simulation to produce the System Event Dataset, labeled \"experiments\""
   ]
  },
  {
   "cell_type": "code",
   "execution_count": null,
   "metadata": {
    "scrolled": false
   },
   "outputs": [],
   "source": [
    "experiments = run.run()"
   ]
  },
  {
   "cell_type": "markdown",
   "metadata": {},
   "source": [
    "### View Head of First Experiment Results"
   ]
  },
  {
   "cell_type": "code",
   "execution_count": null,
   "metadata": {},
   "outputs": [],
   "source": [
    "print(experiments.dataset[0].head())"
   ]
  },
  {
   "cell_type": "markdown",
   "metadata": {},
   "source": [
    "Collect some keys for investigation at selected timesteps."
   ]
  },
  {
   "cell_type": "code",
   "execution_count": null,
   "metadata": {},
   "outputs": [],
   "source": [
    "first_experiment = experiments.dataset[0]"
   ]
  },
  {
   "cell_type": "code",
   "execution_count": null,
   "metadata": {},
   "outputs": [],
   "source": [
    "print(first_experiment.pool[0])"
   ]
  },
  {
   "cell_type": "code",
   "execution_count": null,
   "metadata": {},
   "outputs": [],
   "source": [
    "print(first_experiment.pool[2])"
   ]
  },
  {
   "cell_type": "code",
   "execution_count": null,
   "metadata": {},
   "outputs": [],
   "source": [
    "print(first_experiment.pool[4])"
   ]
  },
  {
   "cell_type": "markdown",
   "metadata": {},
   "source": [
    "## Input Driving Signal\n",
    " This signal consists of a steady, constant component MARKETING_STEADY and a noisy influx of marketing spend, where magnitude and frequency can be governed through, MARKETING_SHOCK_MAG and MARKETING_SHOCK_FREQ, respectively."
   ]
  },
  {
   "cell_type": "code",
   "execution_count": null,
   "metadata": {},
   "outputs": [],
   "source": [
    "experiments = experiments.sort_values(by =['SOURCE_POOL']).reset_index(drop=True)\n",
    "\n",
    "cols = 1\n",
    "rows = 1\n",
    "cc_idx = 0\n",
    "\n",
    "while cc_idx<len(experiments):\n",
    "    cc = experiments.iloc[cc_idx]['SOURCE_POOL']\n",
    "    cc_label = experiments.iloc[cc_idx]['SOURCE_POOL']\n",
    "#     secondary_label = experiments.iloc[cc_idx]['route_allocation']\n",
    "    sub_experiments = experiments[experiments['SOURCE_POOL']==cc]\n",
    "    cc_idx += len(sub_experiments)\n",
    "    fig, axs = plt.subplots(ncols=cols, nrows=rows, figsize=(15*cols,7*rows))\n",
    "    sub_experiments.reset_index(drop=False)\n",
    "    for i, experiment in sub_experiments.iterrows():\n",
    "        df = experiment['dataset'].copy()\n",
    "\n",
    "        plot_label = experiment['SOURCE_POOL']\n",
    "        ax = axs\n",
    "        title = 'Marketing Spend' + '\\n' + 'Scenario: ' + str(cc_label)  + ' SOURCE_POOL'\n",
    "        ax.set_title(title)\n",
    "        ax.set_ylabel('Dollars Spent ($)')\n",
    "        colors = ['b','orange', 'g', 'magenta', 'r']\n",
    "\n",
    "#         ax.plot(df_j.timestep, df_j['j_wallet']['mean'],color = colors[0], label='j_wallet')\n",
    "        ax.plot(df.timestep, df['signal'],color = colors[0], label='Signal')\n",
    "\n",
    "\n",
    "\n",
    "        ax.legend()\n",
    "\n",
    "        ax.set_xlabel('Timesteps')\n",
    "        ax.grid(color='0.9', linestyle='-', linewidth=1)\n",
    "\n",
    "        plt.tight_layout()\n",
    "        \n",
    "fig.tight_layout(rect=[0, 0, 1, .97])\n",
    "fig.patch.set_alpha(1)\n",
    "display(fig)\n",
    "plt.close()"
   ]
  },
  {
   "cell_type": "markdown",
   "metadata": {},
   "source": [
    "## Pool Volume through Adoption\n",
    "The positive driving signal, coupled with positive repuation signal, drives the pool toward loyal adoption."
   ]
  },
  {
   "cell_type": "code",
   "execution_count": null,
   "metadata": {},
   "outputs": [],
   "source": [
    "experiments = experiments.sort_values(by =['SOURCE_POOL']).reset_index(drop=True)\n",
    "\n",
    "cols = 1\n",
    "rows = 1\n",
    "cc_idx = 0\n",
    "\n",
    "while cc_idx<len(experiments):\n",
    "    cc = experiments.iloc[cc_idx]['SOURCE_POOL']\n",
    "    cc_label = experiments.iloc[cc_idx]['SOURCE_POOL']\n",
    "#     secondary_label = experiments.iloc[cc_idx]['route_allocation']\n",
    "    sub_experiments = experiments[experiments['SOURCE_POOL']==cc]\n",
    "    cc_idx += len(sub_experiments)\n",
    "    fig, axs = plt.subplots(ncols=cols, nrows=rows, figsize=(15*cols,7*rows))\n",
    "    sub_experiments.reset_index(drop=False)\n",
    "    for i, experiment in sub_experiments.iterrows():\n",
    "        df = experiment['dataset'].copy()\n",
    "\n",
    "        df['unaware'] = df.pool.apply(lambda x: np.array(x.state['unaware']['pool']))\n",
    "        df['aware'] = df.pool.apply(lambda x: np.array(x.state['aware']['pool']))\n",
    "        df['adopted'] = df.pool.apply(lambda x: np.array(x.state['adopted']['pool']))\n",
    "        df['loyal'] = df.pool.apply(lambda x: np.array(x.state['loyal']['pool']))\n",
    "        df['churned'] = df.pool.apply(lambda x: np.array(x.state['churned']['pool']))\n",
    "\n",
    "\n",
    "\n",
    "        plot_label = experiment['SOURCE_POOL']\n",
    "        ax = axs\n",
    "        title = 'Members by Pool' + '\\n' + 'Scenario: ' + str(cc_label)  + ' SOURCE_POOL'\n",
    "        ax.set_title(title)\n",
    "        ax.set_ylabel('Count')\n",
    "        colors = ['b','orange', 'g', 'magenta', 'r']\n",
    "\n",
    "        ax.plot(df.timestep, df['unaware'],color = colors[0], label='Unaware')\n",
    "        ax.plot(df.timestep, df['aware'],color = colors[1], label='Aware')\n",
    "        ax.plot(df.timestep, df['adopted'],color = colors[2], label='Adopted')\n",
    "        ax.plot(df.timestep, df['loyal'],color = colors[3], label='Loyal')\n",
    "        ax.plot(df.timestep, df['churned'],color = colors[4], label='Churned')\n",
    "\n",
    "\n",
    "        ax.legend()\n",
    "\n",
    "        ax.set_xlabel('Timesteps')\n",
    "        ax.grid(color='0.9', linestyle='-', linewidth=1)\n",
    "\n",
    "        plt.tight_layout()\n",
    "        \n",
    "fig.tight_layout(rect=[0, 0, 1, .97])\n",
    "fig.patch.set_alpha(1)\n",
    "display(fig)\n",
    "plt.close()"
   ]
  },
  {
   "cell_type": "markdown",
   "metadata": {},
   "source": [
    "## Repuation Signal at each state of adoption\n",
    "The mean repuation internal signal of the pool at each adoption state."
   ]
  },
  {
   "cell_type": "code",
   "execution_count": null,
   "metadata": {},
   "outputs": [],
   "source": [
    "experiments = experiments.sort_values(by =['SOURCE_POOL']).reset_index(drop=True)\n",
    "\n",
    "cols = 1\n",
    "rows = 1\n",
    "cc_idx = 0\n",
    "\n",
    "while cc_idx<len(experiments):\n",
    "    cc = experiments.iloc[cc_idx]['SOURCE_POOL']\n",
    "    cc_label = experiments.iloc[cc_idx]['SOURCE_POOL']\n",
    "#     secondary_label = experiments.iloc[cc_idx]['route_allocation']\n",
    "    sub_experiments = experiments[experiments['SOURCE_POOL']==cc]\n",
    "    cc_idx += len(sub_experiments)\n",
    "    fig, axs = plt.subplots(ncols=cols, nrows=rows, figsize=(15*cols,7*rows))\n",
    "    sub_experiments.reset_index(drop=False)\n",
    "    for i, experiment in sub_experiments.iterrows():\n",
    "        df = experiment['dataset'].copy()\n",
    "        \n",
    "        df['unaware'] = df.pool.apply(lambda x: np.array(x.state['unaware']['reputation']))\n",
    "        df['aware'] = df.pool.apply(lambda x: np.array(x.state['aware']['reputation']))\n",
    "        df['adopted'] = df.pool.apply(lambda x: np.array(x.state['adopted']['reputation']))\n",
    "        df['loyal'] = df.pool.apply(lambda x: np.array(x.state['loyal']['reputation']))\n",
    "        df['churned'] = df.pool.apply(lambda x: np.array(x.state['churned']['reputation']))\n",
    "\n",
    "\n",
    "#         df = df.groupby('timestep').agg({'churned': ['min', 'mean', 'max']}).reset_index()\n",
    "\n",
    "        plot_label = experiment['SOURCE_POOL']\n",
    "        ax = axs\n",
    "        title = 'Reputation by Pool' + '\\n' + 'Scenario: ' + str(cc_label)  + ' SOURCE_POOL'\n",
    "        ax.set_title(title)\n",
    "        ax.set_ylabel('Mean Repuation Score')\n",
    "        colors = ['b','orange', 'g', 'magenta', 'r']\n",
    "\n",
    "        ax.plot(df.timestep, df['unaware'],color = colors[0], label='Unaware')\n",
    "        ax.plot(df.timestep, df['aware'],color = colors[1], label='Aware')\n",
    "        ax.plot(df.timestep, df['adopted'],color = colors[2], label='Adopted')\n",
    "        ax.plot(df.timestep, df['loyal'],color = colors[3], label='Loyal')\n",
    "        ax.plot(df.timestep, df['churned'],color = colors[4], label='Churned')\n",
    "\n",
    "        ax.legend()\n",
    "\n",
    "        ax.set_xlabel('Timesteps')\n",
    "        ax.grid(color='0.9', linestyle='-', linewidth=1)\n",
    "\n",
    "        plt.tight_layout()\n",
    "        \n",
    "fig.tight_layout(rect=[0, 0, 1, .97])\n",
    "fig.patch.set_alpha(1)\n",
    "display(fig)\n",
    "plt.close()"
   ]
  },
  {
   "cell_type": "code",
   "execution_count": null,
   "metadata": {},
   "outputs": [],
   "source": [
    "experiments = experiments.sort_values(by =['SOURCE_POOL']).reset_index(drop=True)\n",
    "\n",
    "cols = 1\n",
    "rows = 1\n",
    "cc_idx = 0\n",
    "\n",
    "while cc_idx<len(experiments):\n",
    "    cc = experiments.iloc[cc_idx]['SOURCE_POOL']\n",
    "    cc_label = experiments.iloc[cc_idx]['SOURCE_POOL']\n",
    "#     secondary_label = experiments.iloc[cc_idx]['route_allocation']\n",
    "    sub_experiments = experiments[experiments['SOURCE_POOL']==cc]\n",
    "    cc_idx += len(sub_experiments)\n",
    "    fig, axs = plt.subplots(ncols=cols, nrows=rows, figsize=(15*cols,7*rows))\n",
    "    sub_experiments.reset_index(drop=False)\n",
    "    for i, experiment in sub_experiments.iterrows():\n",
    "        df = experiment['dataset'].copy()\n",
    "        \n",
    "        df['unaware'] = df.pool.apply(lambda x: np.array(x.state['unaware']['reputation']))\n",
    "        df['aware'] = df.pool.apply(lambda x: np.array(x.state['aware']['reputation']))\n",
    "        df['adopted'] = df.pool.apply(lambda x: np.array(x.state['adopted']['reputation']))\n",
    "        df['loyal'] = df.pool.apply(lambda x: np.array(x.state['loyal']['reputation']))\n",
    "        df['churned'] = df.pool.apply(lambda x: np.array(x.state['churned']['reputation']))\n",
    "\n",
    "\n",
    "#         df = df.groupby('timestep').agg({'churned': ['min', 'mean', 'max']}).reset_index()\n",
    "\n",
    "        plot_label = experiment['SOURCE_POOL']\n",
    "        ax = axs\n",
    "        title = 'Reputation by Pool' + '\\n' + 'Scenario: ' + str(cc_label)  + ' SOURCE_POOL'\n",
    "        ax.set_title(title)\n",
    "        ax.set_ylabel('Mean Repuation Score')\n",
    "        colors = ['b','orange', 'g', 'magenta', 'r']\n",
    "\n",
    "#         ax.plot(df.timestep, df['unaware'],color = colors[0], label='Unaware')\n",
    "        ax.plot(df.timestep, df['aware'],color = colors[1], label='Aware')\n",
    "        ax.plot(df.timestep, df['adopted'],color = colors[2], label='Adopted')\n",
    "        ax.plot(df.timestep, df['loyal'],color = colors[3], label='Loyal')\n",
    "        ax.plot(df.timestep, df['churned'],color = colors[4], label='Churned')\n",
    "\n",
    "        ax.legend()\n",
    "\n",
    "        ax.set_xlabel('Timesteps')\n",
    "        ax.grid(color='0.9', linestyle='-', linewidth=1)\n",
    "\n",
    "        plt.tight_layout()\n",
    "        \n",
    "fig.tight_layout(rect=[0, 0, 1, .97])\n",
    "fig.patch.set_alpha(1)\n",
    "display(fig)\n",
    "plt.close()"
   ]
  },
  {
   "cell_type": "markdown",
   "metadata": {},
   "source": [
    "### More to Explore\n",
    "1. There is no filter from the input driving signal to the unaware internal reputation signal. Or I should say a naive filter where a postive marketing signal results in a unitary uptick in reputation for the unaware pool.\n",
    "2. The threshold was set globally for this simulation. However, the threshold is available to be set for each state of adoption as well as be updated dynamically throughout the simulation, using the set_threshold method in the Adoption_Pool class. \n",
    "2. A separate 'experience' signal can be integrated to the reputation signal to influence and determine the adoption as members move through the adopted, loyal, and churned states.\n",
    "3. Negative experience signals have not yet tested, but I expect there will be signals where the population could driven towards churned state and others where steady-state flow can be achieved.\n",
    "4. Experience signals can be incorporated (or estimated) through KPIs if this were part of a larger model.\n",
    "5. Development for this model to become the driving signal module to be integrated into other model configurations"
   ]
  },
  {
   "cell_type": "markdown",
   "metadata": {},
   "source": [
    "#### Product Metric"
   ]
  },
  {
   "cell_type": "code",
   "execution_count": null,
   "metadata": {},
   "outputs": [],
   "source": [
    "experiments = experiments.sort_values(by =['SOURCE_POOL']).reset_index(drop=True)\n",
    "\n",
    "cols = 1\n",
    "rows = 1\n",
    "cc_idx = 0\n",
    "\n",
    "while cc_idx<len(experiments):\n",
    "    cc = experiments.iloc[cc_idx]['SOURCE_POOL']\n",
    "    cc_label = experiments.iloc[cc_idx]['SOURCE_POOL']\n",
    "#     secondary_label = experiments.iloc[cc_idx]['route_allocation']\n",
    "    sub_experiments = experiments[experiments['SOURCE_POOL']==cc]\n",
    "    cc_idx += len(sub_experiments)\n",
    "    fig, axs = plt.subplots(ncols=cols, nrows=rows, figsize=(15*cols,7*rows))\n",
    "    sub_experiments.reset_index(drop=False)\n",
    "    for i, experiment in sub_experiments.iterrows():\n",
    "        df = experiment['dataset'].copy()\n",
    "        # Replace only None with 0\n",
    "        df.pool[0].state['unaware']['reputation'] = 0\n",
    "#         df.pool.fillna(value = 0, inplace =True)\n",
    "#         df.pool = df.pool.apply(lambda x: x.state['unaware']['reputation'] = 0 if x.state['unaware']['reputation'] == None else x.state['unaware']['reputation'])\n",
    "        df['unaware'] = df.pool.apply(lambda x: np.array(x.state['unaware']['reputation'] * x.state['unaware']['pool']))\n",
    "        df['aware'] = df.pool.apply(lambda x: np.array(x.state['aware']['reputation']* x.state['aware']['pool']))\n",
    "        df['adopted'] = df.pool.apply(lambda x: np.array(x.state['adopted']['reputation']* x.state['adopted']['pool']))\n",
    "        df['loyal'] = df.pool.apply(lambda x: np.array(x.state['loyal']['reputation']* x.state['loyal']['pool']))\n",
    "        df['churned'] = df.pool.apply(lambda x: np.array(x.state['churned']['reputation']* x.state['churned']['pool']))\n",
    "\n",
    "\n",
    "#         df = df.groupby('timestep').agg({'churned': ['min', 'mean', 'max']}).reset_index()\n",
    "\n",
    "        plot_label = experiment['SOURCE_POOL']\n",
    "        ax = axs\n",
    "        title = 'Reputation by Pool' + '\\n' + 'Scenario: ' + str(cc_label)  + ' SOURCE_POOL'\n",
    "        ax.set_title(title)\n",
    "        ax.set_ylabel('Mean Repuation Score')\n",
    "        colors = ['b','orange', 'g', 'magenta', 'r']\n",
    "\n",
    "        ax.plot(df.timestep, df['unaware'],color = colors[0], label='Unaware')\n",
    "        ax.plot(df.timestep, df['aware'],color = colors[1], label='Aware')\n",
    "        ax.plot(df.timestep, df['adopted'],color = colors[2], label='Adopted')\n",
    "        ax.plot(df.timestep, df['loyal'],color = colors[3], label='Loyal')\n",
    "        ax.plot(df.timestep, df['churned'],color = colors[4], label='Churned')\n",
    "\n",
    "        ax.legend()\n",
    "\n",
    "        ax.set_xlabel('Timesteps')\n",
    "        ax.grid(color='0.9', linestyle='-', linewidth=1)\n",
    "\n",
    "        plt.tight_layout()\n",
    "        \n",
    "fig.tight_layout(rect=[0, 0, 1, .97])\n",
    "fig.patch.set_alpha(1)\n",
    "display(fig)\n",
    "plt.close()"
   ]
  },
  {
   "cell_type": "code",
   "execution_count": null,
   "metadata": {},
   "outputs": [],
   "source": []
  }
 ],
 "metadata": {
  "kernelspec": {
   "display_name": "Python 3",
   "language": "python",
   "name": "python3"
  },
  "language_info": {
   "codemirror_mode": {
    "name": "ipython",
    "version": 3
   },
   "file_extension": ".py",
   "mimetype": "text/x-python",
   "name": "python",
   "nbconvert_exporter": "python",
   "pygments_lexer": "ipython3",
   "version": "3.6.5"
  }
 },
 "nbformat": 4,
 "nbformat_minor": 2
}
