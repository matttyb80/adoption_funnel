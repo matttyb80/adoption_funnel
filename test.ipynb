{
 "cells": [
  {
   "cell_type": "code",
   "execution_count": 1,
   "metadata": {
    "tags": []
   },
   "outputs": [
    {
     "output_type": "stream",
     "name": "stdout",
     "text": "\n                  ___________    ____\n  ________ __ ___/ / ____/   |  / __ \\\n / ___/ __` / __  / /   / /| | / / / /\n/ /__/ /_/ / /_/ / /___/ ___ |/ /_/ /\n\\___/\\__,_/\\__,_/\\____/_/  |_/_____/\nby cadCAD\n\nExecution Mode: multi_proc\nConfiguration Count: 1\nDimensions of the first simulation: (Timesteps, Params, Runs, Vars) = (1000, 7, 4, 3)\nExecution Method: parallelize_simulations\nExecution Mode: parallelized\nTotal execution time: 2.50s\nconfig_ids =  [{'M': {'MARKETING_STEADY': 500, 'MARKETING_SHOCK_MAG': 1234, 'MARKETING_SHOCK_FREQ': 2, 'EXO_EXPERIENCE': 140, 'SOURCE_POOL': 100000, 'THRESHOLD': 0.1, 'LEAK_COEFFICIENT': 0.01}, 'simulation_id': 0, 'run_id': 0, 'subset_id': 0}, {'M': {'MARKETING_STEADY': 500, 'MARKETING_SHOCK_MAG': 1234, 'MARKETING_SHOCK_FREQ': 2, 'EXO_EXPERIENCE': 140, 'SOURCE_POOL': 100000, 'THRESHOLD': 1, 'LEAK_COEFFICIENT': 0.01}, 'simulation_id': 0, 'run_id': 1, 'subset_id': 1}, {'M': {'MARKETING_STEADY': 500, 'MARKETING_SHOCK_MAG': 1234, 'MARKETING_SHOCK_FREQ': 2, 'EXO_EXPERIENCE': 140, 'SOURCE_POOL': 100000, 'THRESHOLD': 2, 'LEAK_COEFFICIENT': 0.01}, 'simulation_id': 0, 'run_id': 2, 'subset_id': 2}, {'M': {'MARKETING_STEADY': 500, 'MARKETING_SHOCK_MAG': 1234, 'MARKETING_SHOCK_FREQ': 2, 'EXO_EXPERIENCE': 140, 'SOURCE_POOL': 100000, 'THRESHOLD': 3, 'LEAK_COEFFICIENT': 0.01}, 'simulation_id': 0, 'run_id': 3, 'subset_id': 3}]\n   timestamp  signal                                               pool  \\\n0 2020-01-01       0  <class 'src.sim.model.utils.Adoption_Pool'>: {...   \n1 2020-01-01    1734  <class 'src.sim.model.utils.Adoption_Pool'>: {...   \n2 2020-01-01    1734  <class 'src.sim.model.utils.Adoption_Pool'>: {...   \n3 2020-01-01    1734  <class 'src.sim.model.utils.Adoption_Pool'>: {...   \n4 2020-01-01    1734  <class 'src.sim.model.utils.Adoption_Pool'>: {...   \n\n   simulation  subset  run  substep  timestep  \n0           0       0    1        0         0  \n1           0       0    1        1         1  \n2           0       0    1        2         1  \n3           0       0    1        1         2  \n4           0       0    1        2         2  \n      timestamp  signal                                               pool  \\\n2001 2020-01-01       0  <class 'src.sim.model.utils.Adoption_Pool'>: {...   \n2002 2020-01-01     500  <class 'src.sim.model.utils.Adoption_Pool'>: {...   \n2003 2020-01-01     500  <class 'src.sim.model.utils.Adoption_Pool'>: {...   \n2004 2020-01-01     500  <class 'src.sim.model.utils.Adoption_Pool'>: {...   \n2005 2020-01-01     500  <class 'src.sim.model.utils.Adoption_Pool'>: {...   \n\n      simulation  subset  run  substep  timestep  \n2001           0       1    1        0         0  \n2002           0       1    1        1         1  \n2003           0       1    1        2         1  \n2004           0       1    1        1         2  \n2005           0       1    1        2         2  \n      timestamp  signal                                               pool  \\\n4002 2020-01-01       0  <class 'src.sim.model.utils.Adoption_Pool'>: {...   \n4003 2020-01-01     500  <class 'src.sim.model.utils.Adoption_Pool'>: {...   \n4004 2020-01-01     500  <class 'src.sim.model.utils.Adoption_Pool'>: {...   \n4005 2020-01-01     500  <class 'src.sim.model.utils.Adoption_Pool'>: {...   \n4006 2020-01-01     500  <class 'src.sim.model.utils.Adoption_Pool'>: {...   \n\n      simulation  subset  run  substep  timestep  \n4002           0       2    2        0         0  \n4003           0       2    2        1         1  \n4004           0       2    2        2         1  \n4005           0       2    2        1         2  \n4006           0       2    2        2         2  \n      timestamp  signal                                               pool  \\\n6003 2020-01-01       0  <class 'src.sim.model.utils.Adoption_Pool'>: {...   \n6004 2020-01-01     500  <class 'src.sim.model.utils.Adoption_Pool'>: {...   \n6005 2020-01-01     500  <class 'src.sim.model.utils.Adoption_Pool'>: {...   \n6006 2020-01-01     500  <class 'src.sim.model.utils.Adoption_Pool'>: {...   \n6007 2020-01-01     500  <class 'src.sim.model.utils.Adoption_Pool'>: {...   \n\n      simulation  subset  run  substep  timestep  \n6003           0       3    3        0         0  \n6004           0       3    3        1         1  \n6005           0       3    3        2         1  \n6006           0       3    3        1         2  \n6007           0       3    3        2         2  \n   index  MARKETING_STEADY  MARKETING_SHOCK_MAG  MARKETING_SHOCK_FREQ  \\\n0      0               500                 1234                     2   \n\n   EXO_EXPERIENCE  SOURCE_POOL  THRESHOLD  LEAK_COEFFICIENT  \\\n0             140       100000        0.1              0.01   \n\n                                             dataset  \n0        timestamp  signal                       ...  \n"
    }
   ],
   "source": [
    "# Import configuration\n",
    "from src.sim import run\n",
    "\n",
    "# For plotting\n",
    "import matplotlib.pyplot as plt\n",
    "import seaborn as sns\n",
    "\n",
    "# For analysis\n",
    "import numpy as np\n",
    "import pandas as pd\n",
    "\n",
    "sns.set_style(\"whitegrid\")"
   ]
  },
  {
   "cell_type": "code",
   "execution_count": 2,
   "metadata": {
    "tags": []
   },
   "outputs": [
    {
     "output_type": "stream",
     "name": "stdout",
     "text": "config_ids =  [{'M': {'MARKETING_STEADY': 500, 'MARKETING_SHOCK_MAG': 1234, 'MARKETING_SHOCK_FREQ': 2, 'EXO_EXPERIENCE': 140, 'SOURCE_POOL': 100000, 'THRESHOLD': 0.1, 'LEAK_COEFFICIENT': 0.01}, 'simulation_id': 0, 'run_id': 0, 'subset_id': 0}, {'M': {'MARKETING_STEADY': 500, 'MARKETING_SHOCK_MAG': 1234, 'MARKETING_SHOCK_FREQ': 2, 'EXO_EXPERIENCE': 140, 'SOURCE_POOL': 100000, 'THRESHOLD': 1, 'LEAK_COEFFICIENT': 0.01}, 'simulation_id': 0, 'run_id': 1, 'subset_id': 1}, {'M': {'MARKETING_STEADY': 500, 'MARKETING_SHOCK_MAG': 1234, 'MARKETING_SHOCK_FREQ': 2, 'EXO_EXPERIENCE': 140, 'SOURCE_POOL': 100000, 'THRESHOLD': 2, 'LEAK_COEFFICIENT': 0.01}, 'simulation_id': 0, 'run_id': 2, 'subset_id': 2}, {'M': {'MARKETING_STEADY': 500, 'MARKETING_SHOCK_MAG': 1234, 'MARKETING_SHOCK_FREQ': 2, 'EXO_EXPERIENCE': 140, 'SOURCE_POOL': 100000, 'THRESHOLD': 3, 'LEAK_COEFFICIENT': 0.01}, 'simulation_id': 0, 'run_id': 3, 'subset_id': 3}]\n   timestamp  signal                                               pool  \\\n0 2020-01-01       0  <class 'src.sim.model.utils.Adoption_Pool'>: {...   \n1 2020-01-01    1734  <class 'src.sim.model.utils.Adoption_Pool'>: {...   \n2 2020-01-01    1734  <class 'src.sim.model.utils.Adoption_Pool'>: {...   \n3 2020-01-01    1734  <class 'src.sim.model.utils.Adoption_Pool'>: {...   \n4 2020-01-01    1734  <class 'src.sim.model.utils.Adoption_Pool'>: {...   \n\n   simulation  subset  run  substep  timestep  \n0           0       0    1        0         0  \n1           0       0    1        1         1  \n2           0       0    1        2         1  \n3           0       0    1        1         2  \n4           0       0    1        2         2  \n      timestamp  signal                                               pool  \\\n2001 2020-01-01       0  <class 'src.sim.model.utils.Adoption_Pool'>: {...   \n2002 2020-01-01     500  <class 'src.sim.model.utils.Adoption_Pool'>: {...   \n2003 2020-01-01     500  <class 'src.sim.model.utils.Adoption_Pool'>: {...   \n2004 2020-01-01     500  <class 'src.sim.model.utils.Adoption_Pool'>: {...   \n2005 2020-01-01     500  <class 'src.sim.model.utils.Adoption_Pool'>: {...   \n\n      simulation  subset  run  substep  timestep  \n2001           0       1    1        0         0  \n2002           0       1    1        1         1  \n2003           0       1    1        2         1  \n2004           0       1    1        1         2  \n2005           0       1    1        2         2  \n      timestamp  signal                                               pool  \\\n4002 2020-01-01       0  <class 'src.sim.model.utils.Adoption_Pool'>: {...   \n4003 2020-01-01     500  <class 'src.sim.model.utils.Adoption_Pool'>: {...   \n4004 2020-01-01     500  <class 'src.sim.model.utils.Adoption_Pool'>: {...   \n4005 2020-01-01     500  <class 'src.sim.model.utils.Adoption_Pool'>: {...   \n4006 2020-01-01     500  <class 'src.sim.model.utils.Adoption_Pool'>: {...   \n\n      simulation  subset  run  substep  timestep  \n4002           0       2    2        0         0  \n4003           0       2    2        1         1  \n4004           0       2    2        2         1  \n4005           0       2    2        1         2  \n4006           0       2    2        2         2  \n      timestamp  signal                                               pool  \\\n6003 2020-01-01       0  <class 'src.sim.model.utils.Adoption_Pool'>: {...   \n6004 2020-01-01     500  <class 'src.sim.model.utils.Adoption_Pool'>: {...   \n6005 2020-01-01     500  <class 'src.sim.model.utils.Adoption_Pool'>: {...   \n6006 2020-01-01     500  <class 'src.sim.model.utils.Adoption_Pool'>: {...   \n6007 2020-01-01     500  <class 'src.sim.model.utils.Adoption_Pool'>: {...   \n\n      simulation  subset  run  substep  timestep  \n6003           0       3    3        0         0  \n6004           0       3    3        1         1  \n6005           0       3    3        2         1  \n6006           0       3    3        1         2  \n6007           0       3    3        2         2  \n"
    }
   ],
   "source": [
    "experiments = run.run()"
   ]
  },
  {
   "cell_type": "code",
   "execution_count": 3,
   "metadata": {
    "tags": []
   },
   "outputs": [
    {
     "output_type": "stream",
     "name": "stdout",
     "text": "timestamp  signal                                               pool  \\\n0 2020-01-01       0  <class 'src.sim.model.utils.Adoption_Pool'>: {...   \n2 2020-01-01    1734  <class 'src.sim.model.utils.Adoption_Pool'>: {...   \n4 2020-01-01    1734  <class 'src.sim.model.utils.Adoption_Pool'>: {...   \n6 2020-01-01     500  <class 'src.sim.model.utils.Adoption_Pool'>: {...   \n8 2020-01-01     500  <class 'src.sim.model.utils.Adoption_Pool'>: {...   \n\n   simulation  subset  run  substep  timestep  \n0           0       0    1        0         0  \n2           0       0    1        2         1  \n4           0       0    1        2         2  \n6           0       0    1        2         3  \n8           0       0    1        2         4  \n"
    }
   ],
   "source": [
    "print(experiments.dataset[0].head())"
   ]
  }
 ],
 "metadata": {
  "kernelspec": {
   "display_name": "Python 3",
   "language": "python",
   "name": "python3"
  },
  "language_info": {
   "codemirror_mode": {
    "name": "ipython",
    "version": 3
   },
   "file_extension": ".py",
   "mimetype": "text/x-python",
   "name": "python",
   "nbconvert_exporter": "python",
   "pygments_lexer": "ipython3",
   "version": "3.6.5-final"
  }
 },
 "nbformat": 4,
 "nbformat_minor": 4
}